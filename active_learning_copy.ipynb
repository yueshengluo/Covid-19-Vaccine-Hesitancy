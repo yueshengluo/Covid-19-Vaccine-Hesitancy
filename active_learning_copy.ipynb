{
 "cells": [
  {
   "cell_type": "code",
   "execution_count": 1,
   "metadata": {
    "code_folding": []
   },
   "outputs": [
    {
     "name": "stderr",
     "output_type": "stream",
     "text": [
      "[nltk_data] Downloading package punkt to\n",
      "[nltk_data]     C:\\Users\\luoyu\\AppData\\Roaming\\nltk_data...\n",
      "[nltk_data]   Package punkt is already up-to-date!\n",
      "[nltk_data] Downloading package vader_lexicon to\n",
      "[nltk_data]     C:\\Users\\luoyu\\AppData\\Roaming\\nltk_data...\n",
      "[nltk_data]   Package vader_lexicon is already up-to-date!\n"
     ]
    }
   ],
   "source": [
    "#packages\n",
    "import pandas as pd\n",
    "import pickle\n",
    "import csv\n",
    "import os\n",
    "import re\n",
    "import emoji\n",
    "from textblob import TextBlob\n",
    "import nltk\n",
    "from langdetect import detect\n",
    "nltk.download('punkt')\n",
    "from nltk.sentiment.vader import SentimentIntensityAnalyzer\n",
    "from sklearn.metrics import confusion_matrix\n",
    "import gensim\n",
    "nltk.download('vader_lexicon')\n",
    "from sklearn.feature_extraction.text import TfidfVectorizer\n",
    "import numpy as np\n",
    "from scipy.sparse import coo_matrix, hstack\n",
    "from scipy.sparse import csr_matrix\n",
    "import sklearn\n",
    "from scipy import spatial\n",
    "from sklearn.cluster import KMeans\n",
    "from sklearn.metrics import accuracy_score\n",
    "from sklearn.metrics import precision_score\n",
    "from sklearn.metrics import recall_score\n",
    "from sklearn.metrics import f1_score\n",
    "from sklearn.ensemble import RandomForestClassifier\n",
    "from sklearn import model_selection, preprocessing, linear_model, naive_bayes, metrics, svm\n",
    "from sklearn.model_selection import StratifiedShuffleSplit\n",
    "from sklearn.metrics import classification_report, confusion_matrix\n",
    "from sklearn.linear_model import LogisticRegressionCV\n",
    "import gensim.downloader\n",
    "import fasttext"
   ]
  },
  {
   "cell_type": "code",
   "execution_count": 349,
   "metadata": {
    "code_folding": []
   },
   "outputs": [],
   "source": [
    "#import sentiments prediction result from lstm\n",
    "lstm_pred = pd.read_csv(r\"C:\\Users\\luoyu\\Desktop\\USCISI\\vaccine hesitancy\\lstm_pred\\LSTM_prediction.csv\")\n",
    "lstm_pred = lstm_pred[lstm_pred['combined_tweet_txt'].notna()]\n",
    "lstm_pred = lstm_pred.drop_duplicates(subset='combined_tweet_txt', keep=\"last\")\n",
    "list_of_txt = list(lstm_pred[\"combined_tweet_txt\"])"
   ]
  },
  {
   "cell_type": "code",
   "execution_count": 351,
   "metadata": {},
   "outputs": [
    {
     "name": "stdout",
     "output_type": "stream",
     "text": [
      "357474\n"
     ]
    },
    {
     "data": {
      "text/plain": [
       "85471"
      ]
     },
     "execution_count": 351,
     "metadata": {},
     "output_type": "execute_result"
    }
   ],
   "source": [
    "lstm_pred = pd.read_csv(r\"C:\\Users\\luoyu\\Desktop\\USCISI\\vaccine hesitancy\\lstm_pred\\LSTM_prediction.csv\")\n",
    "#lstm_pred = lstm_pred.drop_duplicates(subset='combined_tweet_txt', keep=\"last\")\n",
    "print(len(lstm_pred))\n",
    "lstm_pred_negative = lstm_pred.copy().loc[lstm_pred['prediction'] == -1]\n",
    "len(lstm_pred_negative)"
   ]
  },
  {
   "cell_type": "code",
   "execution_count": 352,
   "metadata": {},
   "outputs": [
    {
     "data": {
      "text/plain": [
       "357474"
      ]
     },
     "execution_count": 352,
     "metadata": {},
     "output_type": "execute_result"
    }
   ],
   "source": [
    "len(lstm_pred)"
   ]
  },
  {
   "cell_type": "code",
   "execution_count": 339,
   "metadata": {},
   "outputs": [],
   "source": [
    "lstm_pred['word_len'] = lstm_pred['combined_tweet_txt'].str.len()\n",
    "frequency = [len(lstm_pred)]\n",
    "difference = []\n",
    "word_cutoff = [10,20,30,40,50,60,70,80,90,100]\n",
    "for i in range(len(word_cutoff)):\n",
    "    lstm_pred = lstm_pred[lstm_pred.word_len > word_cutoff[i]]\n",
    "    frequency.append(len(lstm_pred))\n",
    "    difference.append(frequency[i]-len(lstm_pred))"
   ]
  },
  {
   "cell_type": "code",
   "execution_count": 348,
   "metadata": {},
   "outputs": [
    {
     "name": "stderr",
     "output_type": "stream",
     "text": [
      "<ipython-input-348-82435b2daf4b>:1: SettingWithCopyWarning: \n",
      "A value is trying to be set on a copy of a slice from a DataFrame.\n",
      "Try using .loc[row_indexer,col_indexer] = value instead\n",
      "\n",
      "See the caveats in the documentation: https://pandas.pydata.org/pandas-docs/stable/user_guide/indexing.html#returning-a-view-versus-a-copy\n",
      "  lstm_pred['word_len'] = lstm_pred['combined_tweet_txt'].str.len()\n"
     ]
    }
   ],
   "source": [
    "lstm_pred['word_len'] = lstm_pred['combined_tweet_txt'].str.len()\n",
    "lstm_pred = lstm_pred[lstm_pred.word_len > 50]\n",
    "lstm_pred.to_excel('./cutoff50.xlsx')"
   ]
  },
  {
   "cell_type": "code",
   "execution_count": 342,
   "metadata": {},
   "outputs": [
    {
     "data": {
      "text/plain": [
       "Text(0, 0.5, 'Number of tweets left')"
      ]
     },
     "execution_count": 342,
     "metadata": {},
     "output_type": "execute_result"
    },
    {
     "data": {
      "image/png": "[encoded data removed]",
      "text/plain": [
       "<Figure size 432x288 with 1 Axes>"
      ]
     },
     "metadata": {
      "needs_background": "light"
     },
     "output_type": "display_data"
    }
   ],
   "source": [
    "import matplotlib.pyplot as plt\n",
    "fig = plt.figure()\n",
    "plt.plot(['original',10,20,30,40,50,60,70,80,90,100],frequency)\n",
    "fig.suptitle('Number of tweets left in relation to cut off increament', fontsize=16)\n",
    "plt.xlabel('Character length cut off', fontsize=16)\n",
    "plt.ylabel('Number of tweets left', fontsize=16)"
   ]
  },
  {
   "cell_type": "code",
   "execution_count": 42,
   "metadata": {
    "code_folding": [],
    "collapsed": true
   },
   "outputs": [
    {
     "name": "stderr",
     "output_type": "stream",
     "text": [
      "<ipython-input-42-f8a12a8bd67d>:4: DeprecationWarning: Call to deprecated `syn0` (Attribute will be removed in 4.0.0, use self.vectors instead).\n",
      "  w2v = dict(zip(model.wv.index2word, model.wv.syn0))\n",
      "<ipython-input-42-f8a12a8bd67d>:7: DeprecationWarning: Call to deprecated `wv` (Attribute will be removed in 4.0.0, use self instead).\n",
      "  glove_vectors_w2v = dict(zip(glove_vectors.wv.index2word, glove_vectors.wv.syn0))\n",
      "<ipython-input-42-f8a12a8bd67d>:7: DeprecationWarning: Call to deprecated `syn0` (Attribute will be removed in 4.0.0, use self.vectors instead).\n",
      "  glove_vectors_w2v = dict(zip(glove_vectors.wv.index2word, glove_vectors.wv.syn0))\n"
     ]
    }
   ],
   "source": [
    "#train word2vec with Gensim and import glove\n",
    "tokens = [nltk.word_tokenize(sentences) for sentences in list_of_txt]\n",
    "model = gensim.models.Word2Vec(tokens, min_count=1, size=200) \n",
    "w2v = dict(zip(model.wv.index2word, model.wv.syn0))\n",
    "\n",
    "glove_vectors = gensim.downloader.load('glove-twitter-200')\n",
    "glove_vectors_w2v = dict(zip(glove_vectors.wv.index2word, glove_vectors.wv.syn0))\n",
    "w2v.update(glove_vectors_w2v)"
   ]
  },
  {
   "cell_type": "code",
   "execution_count": 4,
   "metadata": {
    "code_folding": []
   },
   "outputs": [],
   "source": [
    "# train word2vec with Fasttext\n",
    "from gensim.models import FastText\n",
    "#FasTxt = FastText(list_of_txt, size=25)\n",
    "#w2v = dict(zip(model.wv.index2word, model.wv.syn0))"
   ]
  },
  {
   "cell_type": "code",
   "execution_count": 5,
   "metadata": {},
   "outputs": [
    {
     "name": "stderr",
     "output_type": "stream",
     "text": [
      "<ipython-input-5-436c5a515c25>:3: DeprecationWarning: Call to deprecated `syn0` (Attribute will be removed in 4.0.0, use self.vectors instead).\n",
      "  FasTxt = dict(zip(model.wv.index2word, model.wv.syn0))\n",
      "<ipython-input-5-436c5a515c25>:5: DeprecationWarning: Call to deprecated `wv` (Attribute will be removed in 4.0.0, use self instead).\n",
      "  glove_vectors_w2v = dict(zip(glove_vectors.wv.index2word, glove_vectors.wv.syn0))\n",
      "<ipython-input-5-436c5a515c25>:5: DeprecationWarning: Call to deprecated `syn0` (Attribute will be removed in 4.0.0, use self.vectors instead).\n",
      "  glove_vectors_w2v = dict(zip(glove_vectors.wv.index2word, glove_vectors.wv.syn0))\n"
     ]
    }
   ],
   "source": [
    "tokens = [nltk.word_tokenize(sentences) for sentences in list_of_txt]\n",
    "model = FastText(tokens, min_count=1, size=25) \n",
    "FasTxt = dict(zip(model.wv.index2word, model.wv.syn0))\n",
    "glove_vectors = gensim.downloader.load('glove-twitter-25')\n",
    "glove_vectors_w2v = dict(zip(glove_vectors.wv.index2word, glove_vectors.wv.syn0))\n",
    "FasTxt.update(glove_vectors_w2v)"
   ]
  },
  {
   "cell_type": "code",
   "execution_count": 7,
   "metadata": {
    "code_folding": [
     0
    ]
   },
   "outputs": [],
   "source": [
    "#sentence embedding\n",
    "def embedding(list_of_txt, model,size):\n",
    "    Tfidf_model = TfidfVectorizer()\n",
    "    Tfidf_model.fit(list_of_txt)\n",
    "    tf_idf_dict = dict(zip(Tfidf_model.get_feature_names(), list(Tfidf_model.idf_)))\n",
    "    documents = []\n",
    "    for count,tweet in enumerate(list_of_txt):\n",
    "    #word_vectors = []\n",
    "        weight_sum = 0\n",
    "        for word in tokens[count]: # or your logic for separating tokens\n",
    "            sent_vec = np.zeros(size)\n",
    "            if word in tf_idf_dict:\n",
    "                tf_idf_score = tf_idf_dict[word]\n",
    "                sent_vec += model[word]*tf_idf_score\n",
    "                weight_sum += tf_idf_score\n",
    "                #word_vectors.append(sent_vec)\n",
    "        if weight_sum != 0:\n",
    "            sent_vec /= weight_sum\n",
    "        documents.append(sent_vec)\n",
    "    return documents \n",
    "documents = embedding(list_of_txt,FasTxt,25)"
   ]
  },
  {
   "cell_type": "code",
   "execution_count": 8,
   "metadata": {
    "code_folding": []
   },
   "outputs": [],
   "source": [
    "##add word2vec vectors to lstm_pred column\n",
    "lstm_pred['wordvec'] = documents\n",
    "##filter the negative sentiment tweets\n",
    "lstm_pred_negative = lstm_pred.copy().loc[lstm_pred['prediction'] == -1]\n",
    "lstm_pred_negative['word_len'] = lstm_pred_negative['combined_tweet_txt'].str.len()\n",
    "lstm_pred_negative.to_excel('lstm_pred_negative.xlsx')"
   ]
  },
  {
   "cell_type": "markdown",
   "metadata": {},
   "source": [
    "# binary Classification"
   ]
  },
  {
   "cell_type": "code",
   "execution_count": 238,
   "metadata": {
    "code_folding": [
     0
    ]
   },
   "outputs": [],
   "source": [
    "#biclass classification\n",
    "def train_model(classifier, feature_vector_train, label, feature_vector_valid,valid_y,thresh):\n",
    "    classifier.fit(feature_vector_train, label)\n",
    "    predicted_proba = classifier.predict_proba(feature_vector_valid)\n",
    "    predictions = (predicted_proba [:,1] >= thresh).astype('int')\n",
    "    \n",
    "    labels = np.unique(label)\n",
    "\n",
    "    report = classification_report(valid_y,predictions,labels = labels,output_dict =True)\n",
    "    \n",
    "    return report\n",
    "\n",
    "def train_classifier(X_train, y_train, X_valid,valid_y,thresh):\n",
    "    report_list=[]\n",
    "    for classifier, flag in zip(test_classifiers, test_classifiers_flag):\n",
    "        report=train_model(classifier, X_train, y_train, X_valid,valid_y,thresh)\n",
    "        #print('------------------The report of',flag,'--------------------')\n",
    "        #print(report)\n",
    "        #print(conf)\n",
    "        report_list.append((flag,report))\n",
    "    return report_list\n",
    "\n",
    "def StratifiedSampling(df, test_size):\n",
    "    X = df.drop(['y'], axis=1)\n",
    "    y = df.y\n",
    "    sss = StratifiedShuffleSplit(n_splits=1, test_size=test_size, random_state=0)    \n",
    "    sss.get_n_splits(X, y)\n",
    "    for train_index, test_index in sss.split(X, y):\n",
    "        train = df.iloc[train_index,:]\n",
    "        test = df.iloc[test_index,:]\n",
    "    return train,test\n",
    "\n",
    "def splitandtrain(df,thresh):\n",
    "    train,test = StratifiedSampling(df, 0.5)\n",
    "    train_x = list(train.wordvec)\n",
    "    train_y = list(train.y)\n",
    "    valid_x = list(test.wordvec)\n",
    "    valid_y = list(test.y)\n",
    "    report_list = train_classifier(train_x, train_y, valid_x,valid_y,thresh)\n",
    "    return report_list\n",
    "\n",
    "#get average classification stats by running split and train for 10 times. \n",
    "####cluster_df_1: a dataset df including training and testing\n",
    "####thresh: probability threshold\n",
    "def ave_score(cluster_df_1, thresh):\n",
    "    precision_list, recall_list, f1_list, accuracy_list = [],[],[],[]\n",
    "    for i in range(10):\n",
    "        flag = test_classifiers_flag[0]\n",
    "        report = splitandtrain(cluster_df_1[['y','wordvec']],thresh)[0]\n",
    "        precision_list.append(report[1]['1']['precision'])\n",
    "        recall_list.append(report[1]['1']['recall'])\n",
    "        f1_list.append(report[1]['1']['f1-score'])\n",
    "        accuracy_list.append(report[1]['accuracy'])\n",
    "    print('-----------------',thresh,'-------------------')\n",
    "    print('precision:', sum(precision_list)/len(precision_list))\n",
    "    print('recall:', sum(recall_list)/len(recall_list))\n",
    "    print('f1:', sum(f1_list)/len(f1_list))\n",
    "    print('accuracy:', sum(accuracy_list)/len(accuracy_list))\n",
    "    return sum(precision_list)/len(precision_list)"
   ]
  },
  {
   "cell_type": "code",
   "execution_count": 247,
   "metadata": {},
   "outputs": [],
   "source": [
    "#pick the class for binary classification and prepare training data\n",
    "cluster_df_sample_6x100 = pd.read_excel(r\"C:\\Users\\luoyu\\Desktop\\USCISI\\vaccine hesitancy\\cluster_df_sample_6x100.xlsx\")\n",
    "\n",
    "bilabel = [1 if i==3 else 0 for i in list(cluster_df_sample_6x100.true_class)]\n",
    "selected_class_num = sum(bilabel)\n",
    "for_join = cluster_df_sample_6x100[['combined_tweet_txt']]\n",
    "cluster_df_1 = for_join.set_index('combined_tweet_txt').join(lstm_pred_negative.set_index('combined_tweet_txt'), how='left')\n",
    "cluster_df_1['y'] = bilabel\n",
    "bilabel_cluster_df = cluster_df_1.copy()\n",
    "selected_class_tweets = cluster_df_1[cluster_df_1.y == 1]\n",
    "other_class_tweets = cluster_df_1[cluster_df_1.y == 0]\n",
    "cluster_df_1 = selected_class_tweets.append(other_class_tweets.sample(selected_class_num))\n",
    "#RF_report,LR_report = splitandtrain(cluster_df_1[['y','wordvec']],0.5)"
   ]
  },
  {
   "cell_type": "code",
   "execution_count": 241,
   "metadata": {},
   "outputs": [
    {
     "name": "stdout",
     "output_type": "stream",
     "text": [
      "----------------- 0.5 -------------------\n",
      "precision: 0.6060673482116548\n",
      "recall: 0.5611111111111111\n",
      "f1: 0.5824251758555928\n",
      "accuracy: 0.6013793103448276\n"
     ]
    },
    {
     "data": {
      "text/plain": [
       "0.6060673482116548"
      ]
     },
     "execution_count": 241,
     "metadata": {},
     "output_type": "execute_result"
    }
   ],
   "source": [
    "ave_score(cluster_df_1, 0.5)"
   ]
  },
  {
   "cell_type": "markdown",
   "metadata": {},
   "source": [
    "# baseline majority"
   ]
  },
  {
   "cell_type": "code",
   "execution_count": 249,
   "metadata": {
    "code_folding": []
   },
   "outputs": [],
   "source": [
    "#biclass classification\n",
    "def train_model(classifier, feature_vector_train, label, test_x):\n",
    "    classifier.fit(feature_vector_train, label)  \n",
    "    predicted_proba_all = classifier.predict_proba(test_x)\n",
    "    return predicted_proba_all[:,1]\n",
    "\n",
    "def StratifiedSampling(df, test_size):\n",
    "    X = df.drop(['true_class'], axis=1)\n",
    "    y = df.true_class\n",
    "    sss = StratifiedShuffleSplit(n_splits=1, test_size=test_size, random_state=0)    \n",
    "    sss.get_n_splits(X, y)\n",
    "    for train_index, test_index in sss.split(X, y):\n",
    "        train = df.iloc[train_index,:]\n",
    "        test = df.iloc[test_index,:]\n",
    "    return train,test\n",
    "\n",
    "def splitandtrain(train,test):\n",
    "    train_x = list(train.wordvec)\n",
    "    train_y = list(train.y)\n",
    "    test_x = list(test.wordvec)\n",
    "    classifier = test_classifiers[0]\n",
    "    predictions=train_model(classifier, train_x, train_y,test_x)\n",
    "    return predictions\n",
    "\n",
    "#get average classification stats by running split and train for 10 times. \n",
    "####cluster_df_1: a dataset df including training and testing\n",
    "####thresh: probability threshold\n",
    "def ave_score(cluster_df_1, whole_cluster_df):\n",
    "    precision_list, recall_list, f1_list, accuracy_list = [],[],[],[]\n",
    "    predictions_list = []\n",
    "    for i in range(10):\n",
    "        flag = test_classifiers_flag[0]\n",
    "        predictions = splitandtrain(cluster_df_1[['y','wordvec']], whole_cluster_df)\n",
    "        #print(predictions)\n",
    "        predictions_list.append(predictions)\n",
    "\n",
    "    average_predication = [sum(i)/len(i) for i in list(map(list, zip(*predictions_list)))]\n",
    "    return average_predication"
   ]
  },
  {
   "cell_type": "code",
   "execution_count": 170,
   "metadata": {
    "code_folding": []
   },
   "outputs": [],
   "source": [
    "#classification methods\n",
    "RF = RandomForestClassifier()\n",
    "LR = LogisticRegressionCV(cv=5, random_state=0,max_iter=1000)\n",
    "test_classifiers = [RF,LR]\n",
    "test_classifiers_flag = ['RF','LR']"
   ]
  },
  {
   "cell_type": "code",
   "execution_count": 250,
   "metadata": {},
   "outputs": [
    {
     "name": "stdout",
     "output_type": "stream",
     "text": [
      "23\n",
      "38\n",
      "87\n",
      "42\n",
      "7\n",
      "9\n"
     ]
    }
   ],
   "source": [
    "cluster_df_sample_6x100 = pd.read_excel(r\"C:\\Users\\luoyu\\Desktop\\USCISI\\vaccine hesitancy\\cluster_df_sample_6x100.xlsx\")\n",
    "cluster_df_sample_6x100 = cluster_df_sample_6x100[['combined_tweet_txt','true_class']]\n",
    "top_ambiguous = pd.read_excel(r\"C:\\Users\\luoyu\\Desktop\\USCISI\\vaccine hesitancy\\top_ambiguous.xlsx\")\n",
    "cluster_df_sample_6x100 = cluster_df_sample_6x100.append(top_ambiguous[['combined_tweet_txt','true_class']])\n",
    "##remove positive sentiments \n",
    "cluster_df_sample_6x100 = cluster_df_sample_6x100[cluster_df_sample_6x100.true_class != 0]\n",
    "for_join = cluster_df_sample_6x100[['combined_tweet_txt','true_class']]\n",
    "##join to get word vectors\n",
    "cluster_df = for_join.set_index('combined_tweet_txt').join(lstm_pred_negative.set_index('combined_tweet_txt'), how='left')\n",
    "prediction_list=[]\n",
    "train,test = StratifiedSampling(cluster_df, 0.5)\n",
    "for label in range(6):\n",
    "    bilabel_cluster_df = train.copy()\n",
    "    bilabel = [1 if i==label+1 else 0 for i in list(bilabel_cluster_df.true_class)]\n",
    "    selected_class_num = sum(bilabel)\n",
    "    bilabel_cluster_df['y'] = bilabel\n",
    "    selected_class_tweets = bilabel_cluster_df[bilabel_cluster_df.y == 1]\n",
    "    other_class_tweets = bilabel_cluster_df[bilabel_cluster_df.y == 0]\n",
    "    bilabel_cluster_df_sample = selected_class_tweets.append(other_class_tweets.sample(selected_class_num))\n",
    "    prediction = ave_score(bilabel_cluster_df_sample,test)\n",
    "    print(selected_class_num)\n",
    "    prediction_list.append(prediction)"
   ]
  },
  {
   "cell_type": "code",
   "execution_count": 207,
   "metadata": {},
   "outputs": [
    {
     "data": {
      "text/plain": [
       "([0.24,\n",
       "  0.2777777777777778,\n",
       "  0.6785714285714286,\n",
       "  0.21428571428571427,\n",
       "  0.041666666666666664,\n",
       "  0.06451612903225806],\n",
       " 0.30917874396135264)"
      ]
     },
     "execution_count": 207,
     "metadata": {},
     "output_type": "execute_result"
    }
   ],
   "source": [
    "multi_prediction = [values.index(max(values))+1 for values in list(map(list, zip(*prediction_list)))]\n",
    "multiclassScore(list(test.true_class), multi_prediction)"
   ]
  },
  {
   "cell_type": "markdown",
   "metadata": {},
   "source": [
    "# multiclass"
   ]
  },
  {
   "cell_type": "code",
   "execution_count": 258,
   "metadata": {
    "code_folding": []
   },
   "outputs": [],
   "source": [
    "#Multiclass classification\n",
    "def train_models_multi(X_train,y_train,model):\n",
    "    clf = RandomForestClassifier()\n",
    "    clf = clf.fit(X_train, y_train)\n",
    "    return clf\n",
    "\n",
    "def multi_classifier(X_train,y_train,X_test,model):\n",
    "    p_list = []\n",
    "    fin_pred = []\n",
    "    fin_pred_list = []\n",
    "    clf = train_models_multi(X_train,y_train,model=model)\n",
    "    predication = clf.predict(X_test)  \n",
    "    return predication\n",
    "\n",
    "def StratifiedSampling(df, test_size):\n",
    "    X = df.drop(['y'], axis=1)\n",
    "    y = df.y\n",
    "    sss = StratifiedShuffleSplit(n_splits=1, test_size=test_size, random_state=0)    \n",
    "    sss.get_n_splits(X, y)\n",
    "    for train_index, test_index in sss.split(X, y):\n",
    "        train = df.iloc[train_index,:]\n",
    "        test = df.iloc[test_index,:]\n",
    "    return train,test\n",
    "\n",
    "def splitandtrain(df):\n",
    "    train,test = StratifiedSampling(df, 0.5)\n",
    "    train_x = list(train.wordvec)\n",
    "    train_y = train.y\n",
    "    valid_x = list(test.wordvec)\n",
    "    valid_y = test.y\n",
    "    X_test = list(df.wordvec)\n",
    "    predication = multi_classifier(train_x,train_y,valid_x,model)\n",
    "    #print(multiclassScore(list(test.y), predication))\n",
    "    return multiclassScore(list(test.y), predication)\n",
    "\n",
    "def splitandtrain_second_classifer(df):\n",
    "    train,test = StratifiedSampling(df, 0.5)\n",
    "    train_x = train.drop(['y'], axis=1)\n",
    "    train_y = train.y\n",
    "    valid_x = test.drop(['y'], axis=1)\n",
    "    valid_y = test.y\n",
    "    X_test = df.drop(['y'], axis=1)\n",
    "    predication = multi_classifier(train_x,train_y,valid_x,model)\n",
    "    #print(multiclassScore(list(test.y), predication))\n",
    "    return multiclassScore(list(test.y), predication)\n",
    "\n",
    "def ave_score(df, approach):\n",
    "    class_proability_list,accuracy_list = [],[]\n",
    "    predictions_list = []\n",
    "    for i in range(10):\n",
    "        if approach == 1:\n",
    "            result = splitandtrain(df)\n",
    "        if approach == 2:\n",
    "            result = splitandtrain_second_classifer(df)\n",
    "    class_proability_list.append(result[0])\n",
    "    accuracy_list.append(result[1])\n",
    "    \n",
    "    average_proability = [sum(i)/len(i) for i in list(map(list, zip(*class_proability_list)))]\n",
    "    return average_proability, sum(accuracy_list)/len(accuracy_list)"
   ]
  },
  {
   "cell_type": "code",
   "execution_count": 252,
   "metadata": {
    "collapsed": true
   },
   "outputs": [
    {
     "name": "stderr",
     "output_type": "stream",
     "text": [
      "C:\\Users\\luoyu\\anaconda3\\lib\\site-packages\\sklearn\\metrics\\_classification.py:1221: UndefinedMetricWarning: Precision is ill-defined and being set to 0.0 due to no predicted samples. Use `zero_division` parameter to control this behavior.\n",
      "  _warn_prf(average, modifier, msg_start, len(result))\n",
      "C:\\Users\\luoyu\\anaconda3\\lib\\site-packages\\sklearn\\metrics\\_classification.py:1221: UndefinedMetricWarning: Precision is ill-defined and being set to 0.0 due to no predicted samples. Use `zero_division` parameter to control this behavior.\n",
      "  _warn_prf(average, modifier, msg_start, len(result))\n",
      "C:\\Users\\luoyu\\anaconda3\\lib\\site-packages\\sklearn\\metrics\\_classification.py:1221: UndefinedMetricWarning: Precision is ill-defined and being set to 0.0 due to no predicted samples. Use `zero_division` parameter to control this behavior.\n",
      "  _warn_prf(average, modifier, msg_start, len(result))\n",
      "C:\\Users\\luoyu\\anaconda3\\lib\\site-packages\\sklearn\\metrics\\_classification.py:1221: UndefinedMetricWarning: Precision is ill-defined and being set to 0.0 due to no predicted samples. Use `zero_division` parameter to control this behavior.\n",
      "  _warn_prf(average, modifier, msg_start, len(result))\n",
      "C:\\Users\\luoyu\\anaconda3\\lib\\site-packages\\sklearn\\metrics\\_classification.py:1221: UndefinedMetricWarning: Precision is ill-defined and being set to 0.0 due to no predicted samples. Use `zero_division` parameter to control this behavior.\n",
      "  _warn_prf(average, modifier, msg_start, len(result))\n",
      "C:\\Users\\luoyu\\anaconda3\\lib\\site-packages\\sklearn\\metrics\\_classification.py:1221: UndefinedMetricWarning: Precision is ill-defined and being set to 0.0 due to no predicted samples. Use `zero_division` parameter to control this behavior.\n",
      "  _warn_prf(average, modifier, msg_start, len(result))\n",
      "C:\\Users\\luoyu\\anaconda3\\lib\\site-packages\\sklearn\\metrics\\_classification.py:1221: UndefinedMetricWarning: Precision is ill-defined and being set to 0.0 due to no predicted samples. Use `zero_division` parameter to control this behavior.\n",
      "  _warn_prf(average, modifier, msg_start, len(result))\n",
      "C:\\Users\\luoyu\\anaconda3\\lib\\site-packages\\sklearn\\metrics\\_classification.py:1221: UndefinedMetricWarning: Precision is ill-defined and being set to 0.0 due to no predicted samples. Use `zero_division` parameter to control this behavior.\n",
      "  _warn_prf(average, modifier, msg_start, len(result))\n",
      "C:\\Users\\luoyu\\anaconda3\\lib\\site-packages\\sklearn\\metrics\\_classification.py:1221: UndefinedMetricWarning: Precision is ill-defined and being set to 0.0 due to no predicted samples. Use `zero_division` parameter to control this behavior.\n",
      "  _warn_prf(average, modifier, msg_start, len(result))\n",
      "C:\\Users\\luoyu\\anaconda3\\lib\\site-packages\\sklearn\\metrics\\_classification.py:1221: UndefinedMetricWarning: Precision is ill-defined and being set to 0.0 due to no predicted samples. Use `zero_division` parameter to control this behavior.\n",
      "  _warn_prf(average, modifier, msg_start, len(result))\n"
     ]
    }
   ],
   "source": [
    "#multiclass classification\n",
    "classifiers = ['random_forest']\n",
    "cluster_df['y'] = list(cluster_df_sample_6x100.true_class)\n",
    "multi_prediction = ave_score(cluster_df[['y','wordvec']],1)"
   ]
  },
  {
   "cell_type": "code",
   "execution_count": 236,
   "metadata": {},
   "outputs": [
    {
     "data": {
      "text/plain": [
       "([0.25, 0.16666666666666666, 0.55, 0.2857142857142857, 0.0, 0.0],\n",
       " 0.41346153846153844)"
      ]
     },
     "execution_count": 236,
     "metadata": {},
     "output_type": "execute_result"
    }
   ],
   "source": [
    "multi_prediction"
   ]
  },
  {
   "cell_type": "code",
   "execution_count": null,
   "metadata": {},
   "outputs": [],
   "source": [
    "splitandtrain(df)"
   ]
  },
  {
   "cell_type": "code",
   "execution_count": 235,
   "metadata": {
    "collapsed": true
   },
   "outputs": [
    {
     "name": "stderr",
     "output_type": "stream",
     "text": [
      "C:\\Users\\luoyu\\anaconda3\\lib\\site-packages\\sklearn\\metrics\\_classification.py:1221: UndefinedMetricWarning: Precision is ill-defined and being set to 0.0 due to no predicted samples. Use `zero_division` parameter to control this behavior.\n",
      "  _warn_prf(average, modifier, msg_start, len(result))\n",
      "C:\\Users\\luoyu\\anaconda3\\lib\\site-packages\\sklearn\\metrics\\_classification.py:1221: UndefinedMetricWarning: Precision is ill-defined and being set to 0.0 due to no predicted samples. Use `zero_division` parameter to control this behavior.\n",
      "  _warn_prf(average, modifier, msg_start, len(result))\n",
      "C:\\Users\\luoyu\\anaconda3\\lib\\site-packages\\sklearn\\metrics\\_classification.py:1221: UndefinedMetricWarning: Precision is ill-defined and being set to 0.0 due to no predicted samples. Use `zero_division` parameter to control this behavior.\n",
      "  _warn_prf(average, modifier, msg_start, len(result))\n",
      "C:\\Users\\luoyu\\anaconda3\\lib\\site-packages\\sklearn\\metrics\\_classification.py:1221: UndefinedMetricWarning: Precision is ill-defined and being set to 0.0 due to no predicted samples. Use `zero_division` parameter to control this behavior.\n",
      "  _warn_prf(average, modifier, msg_start, len(result))\n",
      "C:\\Users\\luoyu\\anaconda3\\lib\\site-packages\\sklearn\\metrics\\_classification.py:1221: UndefinedMetricWarning: Precision is ill-defined and being set to 0.0 due to no predicted samples. Use `zero_division` parameter to control this behavior.\n",
      "  _warn_prf(average, modifier, msg_start, len(result))\n",
      "C:\\Users\\luoyu\\anaconda3\\lib\\site-packages\\sklearn\\metrics\\_classification.py:1221: UndefinedMetricWarning: Precision is ill-defined and being set to 0.0 due to no predicted samples. Use `zero_division` parameter to control this behavior.\n",
      "  _warn_prf(average, modifier, msg_start, len(result))\n",
      "C:\\Users\\luoyu\\anaconda3\\lib\\site-packages\\sklearn\\metrics\\_classification.py:1221: UndefinedMetricWarning: Precision is ill-defined and being set to 0.0 due to no predicted samples. Use `zero_division` parameter to control this behavior.\n",
      "  _warn_prf(average, modifier, msg_start, len(result))\n"
     ]
    }
   ],
   "source": [
    "#sencond classifier\n",
    "second_classifier = pd.DataFrame(list(map(list, zip(*prediction_list))), columns = ['1', '2','3','4','5','6'])  \n",
    "second_classifier['y'] = list(test.true_class)\n",
    "multi_prediction = ave_score(second_classifier,2)"
   ]
  },
  {
   "cell_type": "code",
   "execution_count": 237,
   "metadata": {},
   "outputs": [
    {
     "data": {
      "text/html": [
       "<div>\n",
       "<style scoped>\n",
       "    .dataframe tbody tr th:only-of-type {\n",
       "        vertical-align: middle;\n",
       "    }\n",
       "\n",
       "    .dataframe tbody tr th {\n",
       "        vertical-align: top;\n",
       "    }\n",
       "\n",
       "    .dataframe thead th {\n",
       "        text-align: right;\n",
       "    }\n",
       "</style>\n",
       "<table border=\"1\" class=\"dataframe\">\n",
       "  <thead>\n",
       "    <tr style=\"text-align: right;\">\n",
       "      <th></th>\n",
       "      <th>1</th>\n",
       "      <th>2</th>\n",
       "      <th>3</th>\n",
       "      <th>4</th>\n",
       "      <th>5</th>\n",
       "      <th>6</th>\n",
       "      <th>y</th>\n",
       "    </tr>\n",
       "  </thead>\n",
       "  <tbody>\n",
       "    <tr>\n",
       "      <th>0</th>\n",
       "      <td>0.072</td>\n",
       "      <td>0.292</td>\n",
       "      <td>0.977</td>\n",
       "      <td>0.079</td>\n",
       "      <td>0.662</td>\n",
       "      <td>0.627</td>\n",
       "      <td>3</td>\n",
       "    </tr>\n",
       "    <tr>\n",
       "      <th>1</th>\n",
       "      <td>0.660</td>\n",
       "      <td>0.472</td>\n",
       "      <td>0.513</td>\n",
       "      <td>0.211</td>\n",
       "      <td>0.513</td>\n",
       "      <td>0.705</td>\n",
       "      <td>4</td>\n",
       "    </tr>\n",
       "    <tr>\n",
       "      <th>2</th>\n",
       "      <td>0.751</td>\n",
       "      <td>0.733</td>\n",
       "      <td>0.703</td>\n",
       "      <td>0.229</td>\n",
       "      <td>0.730</td>\n",
       "      <td>0.573</td>\n",
       "      <td>4</td>\n",
       "    </tr>\n",
       "    <tr>\n",
       "      <th>3</th>\n",
       "      <td>0.690</td>\n",
       "      <td>0.381</td>\n",
       "      <td>0.411</td>\n",
       "      <td>0.601</td>\n",
       "      <td>0.404</td>\n",
       "      <td>0.505</td>\n",
       "      <td>1</td>\n",
       "    </tr>\n",
       "    <tr>\n",
       "      <th>4</th>\n",
       "      <td>0.466</td>\n",
       "      <td>0.392</td>\n",
       "      <td>0.763</td>\n",
       "      <td>0.637</td>\n",
       "      <td>0.475</td>\n",
       "      <td>0.597</td>\n",
       "      <td>3</td>\n",
       "    </tr>\n",
       "    <tr>\n",
       "      <th>...</th>\n",
       "      <td>...</td>\n",
       "      <td>...</td>\n",
       "      <td>...</td>\n",
       "      <td>...</td>\n",
       "      <td>...</td>\n",
       "      <td>...</td>\n",
       "      <td>...</td>\n",
       "    </tr>\n",
       "    <tr>\n",
       "      <th>202</th>\n",
       "      <td>0.384</td>\n",
       "      <td>0.453</td>\n",
       "      <td>0.545</td>\n",
       "      <td>0.479</td>\n",
       "      <td>0.664</td>\n",
       "      <td>0.425</td>\n",
       "      <td>3</td>\n",
       "    </tr>\n",
       "    <tr>\n",
       "      <th>203</th>\n",
       "      <td>0.535</td>\n",
       "      <td>0.331</td>\n",
       "      <td>0.111</td>\n",
       "      <td>0.660</td>\n",
       "      <td>0.468</td>\n",
       "      <td>0.315</td>\n",
       "      <td>4</td>\n",
       "    </tr>\n",
       "    <tr>\n",
       "      <th>204</th>\n",
       "      <td>0.602</td>\n",
       "      <td>0.482</td>\n",
       "      <td>0.432</td>\n",
       "      <td>0.522</td>\n",
       "      <td>0.409</td>\n",
       "      <td>0.421</td>\n",
       "      <td>3</td>\n",
       "    </tr>\n",
       "    <tr>\n",
       "      <th>205</th>\n",
       "      <td>0.488</td>\n",
       "      <td>0.639</td>\n",
       "      <td>0.468</td>\n",
       "      <td>0.351</td>\n",
       "      <td>0.653</td>\n",
       "      <td>0.570</td>\n",
       "      <td>4</td>\n",
       "    </tr>\n",
       "    <tr>\n",
       "      <th>206</th>\n",
       "      <td>0.770</td>\n",
       "      <td>0.720</td>\n",
       "      <td>0.147</td>\n",
       "      <td>0.408</td>\n",
       "      <td>0.521</td>\n",
       "      <td>0.597</td>\n",
       "      <td>1</td>\n",
       "    </tr>\n",
       "  </tbody>\n",
       "</table>\n",
       "<p>207 rows × 7 columns</p>\n",
       "</div>"
      ],
      "text/plain": [
       "         1      2      3      4      5      6  y\n",
       "0    0.072  0.292  0.977  0.079  0.662  0.627  3\n",
       "1    0.660  0.472  0.513  0.211  0.513  0.705  4\n",
       "2    0.751  0.733  0.703  0.229  0.730  0.573  4\n",
       "3    0.690  0.381  0.411  0.601  0.404  0.505  1\n",
       "4    0.466  0.392  0.763  0.637  0.475  0.597  3\n",
       "..     ...    ...    ...    ...    ...    ... ..\n",
       "202  0.384  0.453  0.545  0.479  0.664  0.425  3\n",
       "203  0.535  0.331  0.111  0.660  0.468  0.315  4\n",
       "204  0.602  0.482  0.432  0.522  0.409  0.421  3\n",
       "205  0.488  0.639  0.468  0.351  0.653  0.570  4\n",
       "206  0.770  0.720  0.147  0.408  0.521  0.597  1\n",
       "\n",
       "[207 rows x 7 columns]"
      ]
     },
     "execution_count": 237,
     "metadata": {},
     "output_type": "execute_result"
    }
   ],
   "source": [
    "second_classifier"
   ]
  },
  {
   "cell_type": "markdown",
   "metadata": {},
   "source": [
    "# testing "
   ]
  },
  {
   "cell_type": "code",
   "execution_count": 266,
   "metadata": {},
   "outputs": [],
   "source": [
    "def multiclassScore(true_label, multi_prediction):\n",
    "    print(multi_prediction)\n",
    "    precision_list = []\n",
    "    for label in range(6):\n",
    "        true_bilabel = [1 if i==label+1 else 0 for i in true_label]\n",
    "        predict_bilabel = [1 if i==label+1 else 0 for i in multi_prediction]\n",
    "\n",
    "        precision = precision_score(true_bilabel, predict_bilabel)\n",
    "        precision_list.append(precision)\n",
    "    accuracy = accuracy_score(true_label, multi_prediction)\n",
    "    return precision_list,accuracy \n",
    "#multiclassScore(list(cluster_df_sample_6x100.true_class), multi_prediction)\n",
    "\n"
   ]
  },
  {
   "cell_type": "code",
   "execution_count": 267,
   "metadata": {},
   "outputs": [
    {
     "name": "stdout",
     "output_type": "stream",
     "text": [
      "[3 3 4 3 3 3 3 3 4 3 4 2 3 3 4 3 2 2 3 4 3 1 1 3 1 4 4 2 3 3 2 3 3 4 2 4 3\n",
      " 2 3 4 4 3 2 3 3 4 3 3 4 3 3 3 4 3 3 4 4 3 3 3 3 3 2 2 3 3 4 3 3 3 4 3 3 3\n",
      " 3 3 4 3 3 2 3 4 3 3 4 4 3 3 3 3 1 2 3 3 3 3 3 3 4 3 4 3 3 3 4 2 3 2 2 3 4\n",
      " 3 3 3 3 3 3 4 3 4 3 3 3 3 3 1 4 3 3 3 3 3 4 3 3 3 3 2 3 4 2 3 3 4 3 3 3 3\n",
      " 4 3 4 2 2 3 3 2 3 4 3 3 2 3 3 3 1 3 3 3 4 3 3 3 2 3 3 2 4 3 4 3 3 3 2 1 3\n",
      " 3 2 3 3 4 3 3 3 3 3 4 4 3 3 3 3 3 4 3 3 4 3]\n"
     ]
    },
    {
     "name": "stderr",
     "output_type": "stream",
     "text": [
      "C:\\Users\\luoyu\\anaconda3\\lib\\site-packages\\sklearn\\metrics\\_classification.py:1221: UndefinedMetricWarning: Precision is ill-defined and being set to 0.0 due to no predicted samples. Use `zero_division` parameter to control this behavior.\n",
      "  _warn_prf(average, modifier, msg_start, len(result))\n"
     ]
    },
    {
     "data": {
      "text/plain": [
       "([0.14285714285714285,\n",
       "  0.16,\n",
       "  0.4318181818181818,\n",
       "  0.23255813953488372,\n",
       "  0.0,\n",
       "  0.0],\n",
       " 0.34782608695652173)"
      ]
     },
     "execution_count": 267,
     "metadata": {},
     "output_type": "execute_result"
    }
   ],
   "source": [
    "splitandtrain(cluster_df[['y','wordvec']])"
   ]
  },
  {
   "cell_type": "markdown",
   "metadata": {},
   "source": [
    "# Accuracy @ k"
   ]
  },
  {
   "cell_type": "code",
   "execution_count": 299,
   "metadata": {},
   "outputs": [],
   "source": [
    "def multi_classifier_accuracy(X_train,y_train,X_test,model):\n",
    "    p_list = []\n",
    "    fin_pred = []\n",
    "    fin_pred_list = []\n",
    "    clf = train_models_multi(X_train,y_train,model=model)\n",
    "    predication_prob = clf.predict_proba(X_test)\n",
    "    return predication_prob\n",
    "\n",
    "\n",
    "def splitandtrain_accuracy(df):\n",
    "    train,test = StratifiedSampling(df, 0.5)\n",
    "    train_x = list(train.wordvec)\n",
    "    train_y = train.y\n",
    "    valid_x = list(test.wordvec)\n",
    "    valid_y = test.y\n",
    "    X_test = list(df.wordvec)\n",
    "    predication_prob = multi_classifier_accuracy(train_x,train_y,valid_x,model)\n",
    "    return predication_prob\n",
    "\n",
    "def splitandtrain_second_classifer_accuracy(df):\n",
    "    train,test = StratifiedSampling(df, 0.5)\n",
    "    train_x = train.drop(['y'], axis=1)\n",
    "    train_y = train.y\n",
    "    valid_x = test.drop(['y'], axis=1)\n",
    "    valid_y = test.y\n",
    "    X_test = df.drop(['y'], axis=1)\n",
    "    predication_prob = multi_classifier_accuracy(train_x,train_y,valid_x,model)\n",
    "    return predication_prob \n",
    "\n",
    "def accruacyAtK(true_label,prediction_prob,k):\n",
    "    accruacy_list = []\n",
    "    for label, prob_list in zip(true_label,prediction_prob):\n",
    "        sort_prob_list = sorted(range(len(prob_list)), key=lambda i: prob_list[i],reverse=True)[:k]\n",
    "        sort_prob_list = [i+1 for i in sort_prob_list]\n",
    "        if label in sort_prob_list:\n",
    "            accruacy_list.append(1)\n",
    "        else: accruacy_list.append(0)\n",
    "    return sum(accruacy_list)/len(accruacy_list)"
   ]
  },
  {
   "cell_type": "code",
   "execution_count": 300,
   "metadata": {},
   "outputs": [],
   "source": [
    "classifiers = ['random_forest']\n",
    "cluster_df['y'] = list(cluster_df_sample_6x100.true_class)\n",
    "prediction_prob = splitandtrain_accuracy(cluster_df[['y','wordvec']])\n",
    "accruacy_at_k_list = []\n",
    "for i in range(6):\n",
    "    accruacy_at_k_list.append(accruacyAtK(list(cluster_df.y),prediction_prob,i+1))"
   ]
  },
  {
   "cell_type": "code",
   "execution_count": 304,
   "metadata": {},
   "outputs": [],
   "source": [
    "#sencond classifier\n",
    "second_classifier = pd.DataFrame(list(map(list, zip(*prediction_list))), columns = ['1', '2','3','4','5','6'])  \n",
    "second_classifier['y'] = list(test.true_class)\n",
    "prediction_prob = splitandtrain_second_classifer_accuracy(second_classifier)\n",
    "accruacy_at_k_list = []\n",
    "for i in range(6):\n",
    "    accruacy_at_k_list.append(accruacyAtK(list(cluster_df.y),prediction_prob,i+1))"
   ]
  },
  {
   "cell_type": "code",
   "execution_count": 305,
   "metadata": {},
   "outputs": [
    {
     "data": {
      "text/plain": [
       "Text(0, 0.5, 'accuracy')"
      ]
     },
     "execution_count": 305,
     "metadata": {},
     "output_type": "execute_result"
    },
    {
     "data": {
      "image/png": "[encoded data removed]",
      "text/plain": [
       "<Figure size 432x288 with 1 Axes>"
      ]
     },
     "metadata": {
      "needs_background": "light"
     },
     "output_type": "display_data"
    }
   ],
   "source": [
    "import matplotlib.pyplot as plt\n",
    "fig = plt.figure()\n",
    "plt.plot([1,2,3,4,5,6],accruacy_at_k_list)\n",
    "fig.suptitle('Accuracy at k plot for second classifier training', fontsize=16)\n",
    "plt.xlabel('k', fontsize=16)\n",
    "plt.ylabel('accuracy', fontsize=16)"
   ]
  },
  {
   "cell_type": "code",
   "execution_count": 65,
   "metadata": {
    "code_folding": [
     0
    ],
    "collapsed": true
   },
   "outputs": [
    {
     "name": "stdout",
     "output_type": "stream",
     "text": [
      "----------------- 0.30000000000000004 -------------------\n",
      "precision: 0.5021330883853847\n",
      "recall: 0.9315789473684211\n",
      "f1: 0.6525138174739478\n",
      "accuracy: 0.5039473684210527\n",
      "0.5021330883853847\n",
      "----------------- 0.4 -------------------\n",
      "precision: 0.5001906765097364\n",
      "recall: 0.868421052631579\n",
      "f1: 0.6346503018584524\n",
      "accuracy: 0.5\n",
      "0.5001906765097364\n",
      "----------------- 0.5 -------------------\n",
      "precision: 0.491508089784866\n",
      "recall: 0.5236842105263158\n",
      "f1: 0.5064778272541985\n",
      "accuracy: 0.49078947368421055\n",
      "0.491508089784866\n",
      "----------------- 0.6000000000000001 -------------------\n",
      "precision: 0.6091224951519069\n",
      "recall: 0.23947368421052628\n",
      "f1: 0.3419889486926112\n",
      "accuracy: 0.5407894736842105\n",
      "0.6091224951519069\n",
      "----------------- 0.7000000000000001 -------------------\n",
      "precision: 0.8821428571428571\n",
      "recall: 0.1394736842105263\n",
      "f1: 0.24019783272563858\n",
      "accuracy: 0.5592105263157895\n",
      "0.8821428571428571\n",
      "----------------- 0.8 -------------------\n",
      "precision: 1.0\n",
      "recall: 0.039473684210526314\n",
      "f1: 0.07540337711069418\n",
      "accuracy: 0.519736842105263\n",
      "1.0\n"
     ]
    },
    {
     "name": "stderr",
     "output_type": "stream",
     "text": [
      "C:\\Users\\luoyu\\anaconda3\\lib\\site-packages\\sklearn\\metrics\\_classification.py:1221: UndefinedMetricWarning: Precision and F-score are ill-defined and being set to 0.0 in labels with no predicted samples. Use `zero_division` parameter to control this behavior.\n",
      "  _warn_prf(average, modifier, msg_start, len(result))\n",
      "C:\\Users\\luoyu\\anaconda3\\lib\\site-packages\\sklearn\\metrics\\_classification.py:1221: UndefinedMetricWarning: Precision and F-score are ill-defined and being set to 0.0 in labels with no predicted samples. Use `zero_division` parameter to control this behavior.\n",
      "  _warn_prf(average, modifier, msg_start, len(result))\n",
      "C:\\Users\\luoyu\\anaconda3\\lib\\site-packages\\sklearn\\metrics\\_classification.py:1221: UndefinedMetricWarning: Precision and F-score are ill-defined and being set to 0.0 in labels with no predicted samples. Use `zero_division` parameter to control this behavior.\n",
      "  _warn_prf(average, modifier, msg_start, len(result))\n",
      "C:\\Users\\luoyu\\anaconda3\\lib\\site-packages\\sklearn\\metrics\\_classification.py:1221: UndefinedMetricWarning: Precision and F-score are ill-defined and being set to 0.0 in labels with no predicted samples. Use `zero_division` parameter to control this behavior.\n",
      "  _warn_prf(average, modifier, msg_start, len(result))\n",
      "C:\\Users\\luoyu\\anaconda3\\lib\\site-packages\\sklearn\\metrics\\_classification.py:1221: UndefinedMetricWarning: Precision and F-score are ill-defined and being set to 0.0 in labels with no predicted samples. Use `zero_division` parameter to control this behavior.\n",
      "  _warn_prf(average, modifier, msg_start, len(result))\n",
      "C:\\Users\\luoyu\\anaconda3\\lib\\site-packages\\sklearn\\metrics\\_classification.py:1221: UndefinedMetricWarning: Precision and F-score are ill-defined and being set to 0.0 in labels with no predicted samples. Use `zero_division` parameter to control this behavior.\n",
      "  _warn_prf(average, modifier, msg_start, len(result))\n",
      "C:\\Users\\luoyu\\anaconda3\\lib\\site-packages\\sklearn\\metrics\\_classification.py:1221: UndefinedMetricWarning: Precision and F-score are ill-defined and being set to 0.0 in labels with no predicted samples. Use `zero_division` parameter to control this behavior.\n",
      "  _warn_prf(average, modifier, msg_start, len(result))\n",
      "C:\\Users\\luoyu\\anaconda3\\lib\\site-packages\\sklearn\\metrics\\_classification.py:1221: UndefinedMetricWarning: Precision and F-score are ill-defined and being set to 0.0 in labels with no predicted samples. Use `zero_division` parameter to control this behavior.\n",
      "  _warn_prf(average, modifier, msg_start, len(result))\n"
     ]
    },
    {
     "name": "stdout",
     "output_type": "stream",
     "text": [
      "----------------- 0.9 -------------------\n",
      "precision: 0.0\n",
      "recall: 0.0\n",
      "f1: 0.0\n",
      "accuracy: 0.5\n",
      "0.0\n"
     ]
    },
    {
     "name": "stderr",
     "output_type": "stream",
     "text": [
      "C:\\Users\\luoyu\\anaconda3\\lib\\site-packages\\sklearn\\metrics\\_classification.py:1221: UndefinedMetricWarning: Precision and F-score are ill-defined and being set to 0.0 in labels with no predicted samples. Use `zero_division` parameter to control this behavior.\n",
      "  _warn_prf(average, modifier, msg_start, len(result))\n",
      "C:\\Users\\luoyu\\anaconda3\\lib\\site-packages\\sklearn\\metrics\\_classification.py:1221: UndefinedMetricWarning: Precision and F-score are ill-defined and being set to 0.0 in labels with no predicted samples. Use `zero_division` parameter to control this behavior.\n",
      "  _warn_prf(average, modifier, msg_start, len(result))\n"
     ]
    },
    {
     "data": {
      "text/plain": [
       "Text(0, 0.5, 'precision')"
      ]
     },
     "execution_count": 65,
     "metadata": {},
     "output_type": "execute_result"
    },
    {
     "data": {
      "image/png": "[encoded data removed]",
      "text/plain": [
       "<Figure size 432x288 with 1 Axes>"
      ]
     },
     "metadata": {
      "needs_background": "light"
     },
     "output_type": "display_data"
    }
   ],
   "source": [
    "#plot Threshold Precision Correlation\n",
    "test_classifiers = [RF]\n",
    "test_classifiers_flag = ['RF']\n",
    "precision_line,thresh_line = [],[]\n",
    "\n",
    "#find threshold correlation with precision\n",
    "for j in range(7):\n",
    "    thresh = 0.1*(j+3)\n",
    "    thresh_line.append(thresh)\n",
    "    precision = ave_score(cluster_df_1, thresh)\n",
    "    precision_line.append(precision)\n",
    "    print(precision)\n",
    "import matplotlib.pyplot as plt\n",
    "fig = plt.figure()\n",
    "plt.plot(thresh_line,precision_line)\n",
    "fig.suptitle('Threshold Precision Correlation '+test_classifiers_flag[0], fontsize=16)\n",
    "plt.xlabel('threshold', fontsize=16)\n",
    "plt.ylabel('precision', fontsize=16)"
   ]
  },
  {
   "cell_type": "code",
   "execution_count": 160,
   "metadata": {
    "code_folding": [
     0
    ],
    "collapsed": true
   },
   "outputs": [
    {
     "name": "stdout",
     "output_type": "stream",
     "text": [
      "----------------- 0.30000000000000004 -------------------\n",
      "precision: 0.48885410550999675\n",
      "recall: 0.851388888888889\n",
      "f1: 0.621041975640692\n",
      "accuracy: 0.48413793103448277\n",
      "0.48885410550999675\n",
      "----------------- 0.4 -------------------\n",
      "precision: 0.509603279361732\n",
      "recall: 0.7722222222222221\n",
      "f1: 0.6139455060941877\n",
      "accuracy: 0.5179310344827586\n",
      "0.509603279361732\n",
      "----------------- 0.5 -------------------\n",
      "precision: 0.5250196002486425\n",
      "recall: 0.5833333333333334\n",
      "f1: 0.5523010768894715\n",
      "accuracy: 0.5310344827586208\n",
      "0.5250196002486425\n",
      "----------------- 0.6000000000000001 -------------------\n",
      "precision: 0.5789199841552783\n",
      "recall: 0.39583333333333337\n",
      "f1: 0.46960352522080695\n",
      "accuracy: 0.5572413793103448\n",
      "0.5789199841552783\n",
      "----------------- 0.7000000000000001 -------------------\n",
      "precision: 0.5944889930893986\n",
      "recall: 0.2555555555555556\n",
      "f1: 0.3566390764705562\n",
      "accuracy: 0.5448275862068966\n",
      "0.5944889930893986\n",
      "----------------- 0.8 -------------------\n",
      "precision: 0.5800541058528675\n",
      "recall: 0.15833333333333333\n",
      "f1: 0.2479843194257449\n",
      "accuracy: 0.526206896551724\n",
      "0.5800541058528675\n",
      "----------------- 0.9 -------------------\n",
      "precision: 0.6565476190476192\n",
      "recall: 0.06944444444444443\n",
      "f1: 0.12539925841484964\n",
      "accuracy: 0.5193103448275862\n",
      "0.6565476190476192\n"
     ]
    },
    {
     "data": {
      "text/plain": [
       "Text(0, 0.5, 'precision')"
      ]
     },
     "execution_count": 160,
     "metadata": {},
     "output_type": "execute_result"
    },
    {
     "data": {
      "image/png": "[encoded data removed]",
      "text/plain": [
       "<Figure size 432x288 with 1 Axes>"
      ]
     },
     "metadata": {
      "needs_background": "light"
     },
     "output_type": "display_data"
    }
   ],
   "source": [
    "#plot Threshold Precision Correlation\n",
    "test_classifiers = [RF]\n",
    "test_classifiers_flag = ['RF']\n",
    "precision_list, recall_list, f1_list, accuracy_list = [],[],[],[]\n",
    "precision_line,thresh_line = [],[]\n",
    "\n",
    "#find threshold correlation with precision\n",
    "for j in range(7):\n",
    "    thresh = 0.1*(j+3)\n",
    "    thresh_line.append(thresh)\n",
    "    precision = ave_score(cluster_df_1, thresh)\n",
    "    precision_line.append(precision)\n",
    "    print(precision)\n",
    "import matplotlib.pyplot as plt\n",
    "fig = plt.figure()\n",
    "plt.plot(thresh_line,precision_line)\n",
    "fig.suptitle('Threshold Precision Correlation '+test_classifiers_flag[0], fontsize=16)\n",
    "plt.xlabel('threshold', fontsize=16)\n",
    "plt.ylabel('precision', fontsize=16)"
   ]
  },
  {
   "cell_type": "code",
   "execution_count": null,
   "metadata": {},
   "outputs": [],
   "source": []
  }
 ],
 "metadata": {
  "kernelspec": {
   "display_name": "Python 3",
   "language": "python",
   "name": "python3"
  },
  "language_info": {
   "codemirror_mode": {
    "name": "ipython",
    "version": 3
   },
   "file_extension": ".py",
   "mimetype": "text/x-python",
   "name": "python",
   "nbconvert_exporter": "python",
   "pygments_lexer": "ipython3",
   "version": "3.8.3"
  }
 },
 "nbformat": 4,
 "nbformat_minor": 4
}
